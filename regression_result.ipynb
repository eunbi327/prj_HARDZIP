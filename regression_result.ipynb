{
 "cells": [
  {
   "cell_type": "code",
   "execution_count": 2,
   "metadata": {},
   "outputs": [],
   "source": [
    "import sys\n",
    "sys.path.append('./data_prep')\n",
    "sys.path.append('./models')"
   ]
  },
  {
   "cell_type": "code",
   "execution_count": 5,
   "metadata": {},
   "outputs": [
    {
     "data": {
      "text/plain": [
       "(34229, 67)"
      ]
     },
     "execution_count": 5,
     "metadata": {},
     "output_type": "execute_result"
    }
   ],
   "source": [
    "import regression as reg\n",
    "from data_preparation import get_regression_df\n",
    "import pandas as pd\n",
    "import warnings\n",
    "warnings.filterwarnings('ignore')\n",
    "\n",
    "# 데이터 로드\n",
    "df = get_regression_df()\n",
    "df.shape"
   ]
  },
  {
   "attachments": {},
   "cell_type": "markdown",
   "metadata": {},
   "source": [
    "# 0. 데이터 분포 확인, Scaling 적용\n",
    "- 데이터의 분포를 확인하기 위해 이상치가 있는 데이터들의 왜도, 첨도 확인 \n",
    "  - 지하철 역까지의 거리, 문화시설까지의 거리, 1인당 녹지면적, 1인당 공원면적, 성비, 인구 수 등의 컬럼에서 확인\n",
    "  <br>\n",
    "- 확인된 각 데이터들의 분포를 바탕으로 변수 별 특징을 고려하여 스케일링과 변환을 적용해 봄\n",
    "  - Standard scaling: 정규분포에 근사한 변수\n",
    "  - Robust scaling: 이상치가 많은 데이터에 적용해 봄. 그러나 우리가 수집한 데이터는 이상치가 오히려 매물의 특성을 나타내기 때문에 이상치에 영향을 덜 받는 robust는 적합하지 않았음\n",
    "  - Minmax scaling: 우리의 데이터에는 이상치(outliers)가 존재하고, 분포가 불균형하기 때문에 minmax scaling은 적합하지 않았음\n"
   ]
  },
  {
   "attachments": {},
   "cell_type": "markdown",
   "metadata": {},
   "source": [
    "스케일링 적용 효과 \n",
    "- 변수간 스케일 불일치 해소\n",
    "- 이상치 영향 완화\n",
    "- 수치 최적화 개선\n",
    "- 변수 중요도 해석용이"
   ]
  },
  {
   "attachments": {},
   "cell_type": "markdown",
   "metadata": {},
   "source": [
    "<!-- '''from sklearn.preprocessing import StandardScaler\n",
    "\n",
    "왜도첨도 기준으로 해봤다~\n",
    "temp_col = ['building_nonresidential_p',\n",
    " 'corp_to_pop',\n",
    " 'building_others_p',\n",
    " 'medical_per_ppltn',\n",
    " 'subway_dist',\n",
    " 'cultural_venue_dist',\n",
    " 'hhd_collective_p',\n",
    " 'convenience_per_ppltn',\n",
    " 'culture_per_ppltn',\n",
    " 'hhd_private_p',\n",
    " 'green_per_area',\n",
    " 'ppltn_foreign_domestic_ratio',\n",
    " 'convenience_store_dist',\n",
    " 'hospital_dist',\n",
    " 'park_per_area',\n",
    " 'building_yeonlip_p',\n",
    " 'grocery_per_ppltn',\n",
    " 'tenure_free_ratio',\n",
    " 'supermarket_dist',\n",
    " 'gender_ratio',\n",
    " 'gym_per_ppltn',\n",
    " 'building_dandok_p',\n",
    " 'shopping_per_ppltn',\n",
    " 'public_institution_dist',\n",
    " 'size_m2',\n",
    " 'restaurant_per_ppltn',\n",
    " 'ppltn_adult_p',\n",
    " 'ppltn_total']\n",
    "\n",
    "temp_X_train = X_train.copy()\n",
    "temp_X_test = X_test.copy()\n",
    "temp2_X_train = X_train.copy()\n",
    "temp2_X_test = X_test.copy()\n",
    "\n",
    "scaler = StandardScaler()\n",
    "temp2_X_train_scaled = scaler.fit_transform(temp2_X_train)\n",
    "temp2_X_test_scaled = scaler.fit_transform(temp2_X_test)\n",
    "X_train_scaled = pd.DataFrame(temp2_X_train_scaled)\n",
    "X_test_scaled = pd.DataFrame(temp2_X_test_scaled)\n",
    "\n",
    "\n",
    "log_train= np.log(temp_X_train[temp_col])\n",
    "log_test= np.log(temp_X_test[temp_col])\n",
    "X_train_scaled[temp_col] = log_train\n",
    "X_test_scaled[temp_col] = log_test\n",
    "\n",
    "\n",
    "temp_X_train = temp_X_train[np.isfinite(X_train_scaled)]\n",
    "temp_X_test = temp_X_test[np.isfinite(X_test_scaled)]''' -->"
   ]
  },
  {
   "cell_type": "code",
   "execution_count": 6,
   "metadata": {},
   "outputs": [
    {
     "name": "stdout",
     "output_type": "stream",
     "text": [
      "               Model  Train RMSE  Train R^2  Test RMSE  Test R^2\n",
      "0  Linear Regression   25.724706   0.675303  24.259845  0.683527\n",
      "1   Ridge Regression   25.718631   0.675457  24.259966  0.683524\n",
      "2   Lasso Regression   26.626379   0.652143  24.989508  0.664204\n",
      "3         ElasticNet   27.830615   0.619966  25.926488  0.638550\n"
     ]
    }
   ],
   "source": [
    "# 선형모델에 standard scaling 적용한 결과\n",
    "standard_result = reg.get_linear_result_df(\"original\",\"standard\", reg.raw_model)"
   ]
  },
  {
   "cell_type": "code",
   "execution_count": 9,
   "metadata": {},
   "outputs": [
    {
     "name": "stdout",
     "output_type": "stream",
     "text": [
      "               Model  Train RMSE  Train R^2  Test RMSE  Test R^2\n",
      "0  Linear Regression   25.394811   0.679529  24.465761  0.686109\n",
      "1   Ridge Regression   25.401778   0.679353  24.474197  0.685893\n",
      "2   Lasso Regression   30.798257   0.528642  29.870436  0.532110\n",
      "3         ElasticNet   37.496252   0.301326  36.406376  0.304950\n"
     ]
    }
   ],
   "source": [
    "# 선형모델에 minmax scaling 적용한 결과\n",
    "minmax_result = reg.get_linear_result_df(\"original\",\"minmax\", reg.raw_model)"
   ]
  },
  {
   "cell_type": "code",
   "execution_count": 10,
   "metadata": {},
   "outputs": [
    {
     "name": "stdout",
     "output_type": "stream",
     "text": [
      "               Model  Train RMSE  Train R^2  Test RMSE  Test R^2\n",
      "0  Linear Regression   25.394962   0.679525  24.466133  0.686100\n",
      "1   Ridge Regression   25.398732   0.679430  24.476236  0.685840\n",
      "2   Lasso Regression   26.752982   0.644333  25.834603  0.650003\n",
      "3         ElasticNet   29.121992   0.578555  28.148527  0.584499\n"
     ]
    }
   ],
   "source": [
    "# 선형모델에 Robust scaling 적용한 결과\n",
    "robust_result = reg.get_linear_result_df('original','robust', reg.raw_model)"
   ]
  },
  {
   "attachments": {},
   "cell_type": "markdown",
   "metadata": {},
   "source": [
    "---\n",
    "# 1. 선형회귀 모델\n",
    "  - 1-1. origianl data\n",
    "  - 1-2. Polynomial transformed data"
   ]
  },
  {
   "attachments": {},
   "cell_type": "markdown",
   "metadata": {},
   "source": [
    "## 1-1. Original Data\n",
    "- Linear Regression\n",
    "- Lasso\n",
    "- Ridge\n",
    "- ElasticNet"
   ]
  },
  {
   "cell_type": "code",
   "execution_count": 15,
   "metadata": {},
   "outputs": [
    {
     "name": "stdout",
     "output_type": "stream",
     "text": [
      "               Model  Train RMSE  Train R^2  Test RMSE  Test R^2\n",
      "0  Linear Regression   25.400680   0.679381  24.470214  0.685995\n",
      "1   Ridge Regression   25.394750   0.679531  24.465443  0.686117\n",
      "2   Lasso Regression   25.499299   0.676886  24.544178  0.684094\n",
      "3         ElasticNet   25.398984   0.679424  24.476615  0.685831\n"
     ]
    }
   ],
   "source": [
    "# Linear model - original data\n",
    "linear_result = reg.get_linear_result_df('original', None, reg.get_bestparam_model)"
   ]
  },
  {
   "attachments": {},
   "cell_type": "markdown",
   "metadata": {},
   "source": [
    "### Original data에 대한 선형회귀 결과\n",
    "- Train, Test data의 RMSE를 확인해본 결과 모두 과소적합이 발생\n",
    "- 이는 데이터가 충분한 설명력이 없다는 것을 의미\n",
    "- 데이터에 설명력을 조금 더 부여하고자 다항변환 시도함으로써 데이터에 복잡성을 부여하고자 함"
   ]
  },
  {
   "attachments": {},
   "cell_type": "markdown",
   "metadata": {},
   "source": [
    "## 1-2. Polynomial Transformed Data\n",
    "- Linear Regression\n",
    "- Lasso\n",
    "- Ridge\n",
    "- ElasticNet"
   ]
  },
  {
   "cell_type": "code",
   "execution_count": 4,
   "metadata": {},
   "outputs": [
    {
     "name": "stdout",
     "output_type": "stream",
     "text": [
      "               Model  Train RMSE  Train R^2  Test RMSE  Test R^2\n",
      "0  Linear Regression   18.412216   0.831535  19.186031  0.806967\n",
      "1   Ridge Regression   18.422612   0.831344  19.081952  0.809056\n",
      "2   Lasso Regression   20.215489   0.796920  19.973998  0.790786\n",
      "3         ElasticNet   20.085613   0.799521  19.873291  0.792890\n"
     ]
    }
   ],
   "source": [
    "# Linear model - Polynomial Transformed data\n",
    "linear_result_poly= reg.get_linear_result_df('poly', None, reg.raw_model)"
   ]
  },
  {
   "cell_type": "code",
   "execution_count": 20,
   "metadata": {},
   "outputs": [
    {
     "name": "stdout",
     "output_type": "stream",
     "text": [
      "               Model  Train RMSE  Train R^2  Test RMSE  Test R^2\n",
      "0  Linear Regression   25.400680   0.679381  24.470214  0.685995\n",
      "1   Ridge Regression   25.398430   0.679438  24.475662  0.685855\n",
      "2   Lasso Regression   26.300603   0.656260  25.339730  0.663283\n",
      "3         ElasticNet   27.544659   0.622972  26.524993  0.631046\n"
     ]
    }
   ],
   "source": [
    "# Linear model - Polynomial Transformed data\n",
    "linear_result_poly= reg.get_linear_result_df('poly', \"standard\", reg.raw_model)"
   ]
  },
  {
   "attachments": {},
   "cell_type": "markdown",
   "metadata": {},
   "source": [
    "## 1-3. 선형회귀 결론\n",
    "- `데이터 성능`: \n",
    "  - Original data < Poly data\n",
    "  - 다항 변환된 데이터를 통해 선형 모델을 돌려본 결과, RMSE와 R2 score가 개선되었다.\n",
    "- `모델 성능`: \n",
    "  - Elastic이 가장 좋음\n",
    "  - Elastic의 Train RMSE와 Test RMSE의 차이가 가장 적고, R2 socre 역시 높은 축에 속함\n",
    "- `선형회귀 한계`:  \n",
    "  - 선형회귀(Linear, Lasso, Ridge, Elastic)로 모델 돌려봤지만 여전히 결과가 목표치에 미달 (목표치: 오차 1자리)\n",
    "- `결론`:\n",
    "  - 데이터 중 불연속성이 높은 피처가 존재하기 때문에 불연속성이 높은 `트리모델`이 더 효과적일 것이라 판단."
   ]
  },
  {
   "attachments": {},
   "cell_type": "markdown",
   "metadata": {},
   "source": [
    "---\n",
    "# 2. Tree model\n",
    "- **트리모델 선택 이유**\n",
    "  - 선형회귀의 한계: 선형회귀(Linear, Lasso, Ridge, Elastic)로 모델 돌려봤지만 여전히 결과가 목표치에 미달(목표치: 오차 1자리)\n",
    "  - 데이터 중 불연속성이 높은 피처가 존재하기 때문에 불연속성이 높은 트리모델 선택\n",
    "  - 가격 결정 요인 설명 시, 트리모델의 해석력이 좋음  \n",
    "- **트리모델 종류**\n",
    "  - Random Forest\n",
    "  - Gradient Boosting\n",
    "  - XGBoost\n",
    "  - LightGBM"
   ]
  },
  {
   "attachments": {},
   "cell_type": "markdown",
   "metadata": {},
   "source": [
    "## 2-1. Polynomial Transformed data"
   ]
  },
  {
   "cell_type": "code",
   "execution_count": 2,
   "metadata": {},
   "outputs": [
    {
     "name": "stdout",
     "output_type": "stream",
     "text": [
      "               Model  Train RMSE  Train R^2  Test RMSE  Test R^2\n",
      "0      Random Forest    5.989354   0.982174  15.564326  0.872965\n",
      "1  Gradient Boosting   17.908708   0.840622  18.522998  0.820078\n",
      "2            XGBoost    9.128141   0.958594  16.296435  0.860734\n",
      "3           LightGBM   12.461732   0.922829  16.072886  0.864528\n"
     ]
    }
   ],
   "source": [
    "## tree model을 poly transformed data로 돌려봄\n",
    "tree_result_poly = reg.get_treemodel_result_df('poly', None, reg.raw_model)"
   ]
  },
  {
   "attachments": {},
   "cell_type": "markdown",
   "metadata": {},
   "source": [
    "- 먼저 선형 모델에서 성능이 더 좋게 나왔던 다항변환 데이터로 Tree model을 돌려보았으나, 결과는 좋지 않음\n",
    "- 트리모델 자체가 변수 불연속성을 적용하기 때문에 다항변환이 불필요하다고 결론 내렸고, 이후 오리지널 데이터로만 Tree model 돌림"
   ]
  },
  {
   "attachments": {},
   "cell_type": "markdown",
   "metadata": {},
   "source": [
    "## 2-2. Original data"
   ]
  },
  {
   "cell_type": "code",
   "execution_count": 3,
   "metadata": {},
   "outputs": [
    {
     "name": "stdout",
     "output_type": "stream",
     "text": [
      "               Model  Train RMSE  Train R^2  Test RMSE  Test R^2\n",
      "0      Random Forest    6.089654   0.981572  15.949360  0.866603\n",
      "1  Gradient Boosting   19.589756   0.809297  19.431828  0.801989\n",
      "2            XGBoost   10.519590   0.945008  16.090727  0.864227\n",
      "3           LightGBM   14.466427   0.896003  16.688289  0.853956\n"
     ]
    }
   ],
   "source": [
    "# tree model을 original data로 돌려봄\n",
    "tree_result = reg.get_treemodel_result_df('original', None, reg.raw_model)"
   ]
  },
  {
   "attachments": {},
   "cell_type": "markdown",
   "metadata": {},
   "source": [
    "### 각 모델 하이퍼 파라미터 설명\n",
    "Random Forest, Gradient Boosting, XGBoost, LightGBM\t\t"
   ]
  },
  {
   "attachments": {},
   "cell_type": "markdown",
   "metadata": {},
   "source": [
    "#### Random Forest \n",
    "1) n_estimators\n",
    "\t- 랜덤 포레스트 안의 결정 트리 개수\n",
    "\t- default = 10\n",
    "\t- 개수 ↑ → 많을수록 성능 향상 (무조건적인 것은 아님)\n",
    "2) min_samples_leaf\n",
    "\t- 리프노드(마지막 노드)가 되기 위한 최소한의 샘플 데이터 수\n",
    "\t- default = 2\n",
    "\t- 개수 ↑ → 일반화 성능 향상, 과적합 감소\n",
    "3) min_samples_split\n",
    "\t- 노드를 분할하기 위한 최소한의 샘플 데이터 수\n",
    "\t- default = auto\n",
    "\t- 개수 ↑ → 과적합 감소\n",
    "\n",
    "\n",
    "#### Gradient Boost\n",
    "1) loss\t\n",
    "   - 경사하강법에서 사용할 cost function 지정 - 특별한 이유가 없으면 default 값인 deviance 적용\n",
    "2) n_estimators\t- 생성할 트리의 갯수를 지정  \n",
    "   - 많을수록 성능은 좋아지지만 시간이 오래 걸림\n",
    "   - default = 100\n",
    "3) learning_rate - 학습을 진행할 때마다 적용하는 학습률(0~1)\n",
    "   - Weak learner가 순차적으로 오류 값을 보정해나갈 때 적용하는 계수\n",
    "   - default = 0.1\n",
    "   - 낮은 만큼 최소 오류 값을 찾아 예측성능이 높아질 수 있음\n",
    "   - 하지만 많은 수의 트리가 필요하고 시간이 많이 소요\n",
    "4) subsample\t\n",
    "   - 개별 트리가 학습에 사용하는 데이터 샘플링 비율(0~1)\n",
    "   - default = 1 (전체 데이터 학습)\n",
    "   - 이 값을 조절하여 트리 간의 상관도를 줄일 수 있음\n",
    "\n",
    "\n",
    "#### XGBOOST\n",
    "1) n_estimators\n",
    "\t- 결정 트리 모델의 개수\n",
    "\t- default = 100\n",
    "\t- 개수 ↑ → 성능 향상 (무조건적인 것은 아님)\n",
    "2) colsample_bytree\n",
    "\t- 각 트리에 사용할 Feature의 비율\n",
    "\t- default = 1\n",
    "\t- 값 ↓ →  과적합 방지\n",
    "3) learning_rate\n",
    "\t- 학습률. 학습 단계별로 이전 결과를 얼마나 반영할지 설정.\n",
    "\t- default = 0.3\n",
    "\t- 값 ↓ → 과적합 방지\n",
    "4) max_depth\n",
    "\t- 각 트리의 최대 깊이\n",
    "\t- default = 6\n",
    "\t- 과적합 조절 용도로 사용\n",
    "\t- 값 ↑ → 모델 복잡도 증가 → 과적합 가능성 높아짐\n",
    "5) subsample\n",
    "\t- 각 트리의 학습에 사용되는 데이터 샘플의 비율\n",
    "\t- default = 1\n",
    "\t- 값 ↓ → 과적합 방지\n",
    "6) gamma\n",
    "\t- leaf node의 추가분할을 결정할 때 고려되는 최소 손실 감소값\n",
    "\t- default = 0\n",
    "\t- 손실감소 > gamma 인 경우에만 분할 발생\n",
    "\t- 값 ↓ → 과적합 감소\n",
    "\n",
    "#### LIGHTGBM\n",
    "1) num_leaves\n",
    "   - 최대 하나가 가질 수 있는 최대 리프 갯수\n",
    "2) learning rate\n",
    "   - 경사하강법 등에서 다음 학습에 반영할 정도\n",
    "3) n_estimator\n",
    "   - 반복 수행할 트리의 갯수 → 부스팅은 약한 학습기를 여러 개의 결정트리를 순차적으로 학습 좋은 모델을 만들어가는 방식\n",
    "4) max_depth\n",
    "   - 트리 깊이 조절\n",
    "5) min_child_sample\n",
    "   - 하나의 자손트리에 가질 수 있는 샘플 수 → 과적합 방지"
   ]
  },
  {
   "attachments": {},
   "cell_type": "markdown",
   "metadata": {},
   "source": [
    "### 하이퍼 파라미터 튜닝 코드 예시"
   ]
  },
  {
   "cell_type": "code",
   "execution_count": null,
   "metadata": {},
   "outputs": [],
   "source": [
    "import lightgbm as lgb\n",
    "from sklearn.metrics import mean_squared_error\n",
    "from bayes_opt import BayesianOptimization\n",
    "\n",
    "\n",
    "# Define the parameter ranges for each optimizer\n",
    "gradient_pbounds = {'learning_rate': (0.01, 0.15),\n",
    "                    'n_estimators': (100, 1000),\n",
    "                    'subsample': (0.5, 1.0)}\n",
    "\n",
    "random_forest_pbounds = {'n_estimators': (100, 1000),\n",
    "                         'max_depth': (3, 15),\n",
    "                         'min_samples_split': (2, 10),\n",
    "                         'min_samples_leaf': (1, 5)}\n",
    "\n",
    "xgboost_pbounds = {'learning_rate': (0.01, 0.15),\n",
    "                   'max_depth': (3, 15),\n",
    "                   'subsample': (0.5, 1.0),\n",
    "                   'colsample_bytree': (0.5, 1.0)}\n",
    "\n",
    "lightgbm_pbounds = {'learning_rate': (0.01, 0.15),\n",
    "                    'num_leaves': (10, 50),\n",
    "                    'max_depth': (3, 15),\n",
    "                    'n_estimators': (100, 1000),\n",
    "                    'min_child_samples': (20, 40)}\n",
    "\n",
    "from bayes_opt import BayesianOptimization\n",
    "\n",
    "best_params = reg.optimize_models(gradient_pbounds, random_forest_pbounds, xgboost_pbounds, lightgbm_pbounds)\n",
    "\n",
    "for model_name, model_info in best_params.items():\n",
    "    print(f\"Model: {model_name}\")\n",
    "    print(f\"Best Parameters: {model_info['params']}\")\n",
    "    print(f\"Loss: {model_info['loss']}\")\n",
    "    print()"
   ]
  },
  {
   "attachments": {},
   "cell_type": "markdown",
   "metadata": {},
   "source": [
    "### 하이퍼 파라미터 서칭 결과"
   ]
  },
  {
   "cell_type": "code",
   "execution_count": 3,
   "metadata": {},
   "outputs": [
    {
     "name": "stdout",
     "output_type": "stream",
     "text": [
      "               Model  Train RMSE  Train R^2  Test RMSE  Test R^2\n",
      "0      Random Forest    7.137711   0.974683  15.934157  0.866857\n",
      "1  Gradient Boosting   13.903760   0.903935  16.390478  0.859122\n",
      "2            XGBoost    2.908879   0.995795  14.732229  0.886185\n",
      "3           LightGBM   11.425582   0.935128  15.604665  0.872306\n"
     ]
    }
   ],
   "source": [
    "# 각 모델별 최적 파라미터\n",
    "tree_result = reg.get_treemodel_result_df('original', None, reg.get_bestparam_model)"
   ]
  },
  {
   "cell_type": "code",
   "execution_count": 18,
   "metadata": {},
   "outputs": [
    {
     "data": {
      "image/png": "[encoded data removed]",
      "text/plain": [
       "<Figure size 432x288 with 1 Axes>"
      ]
     },
     "metadata": {
      "needs_background": "light"
     },
     "output_type": "display_data"
    }
   ],
   "source": [
    "import xgboost\n",
    "X, y =reg.get_xy(df)\n",
    "X_train, X_test, y_train, y_test =reg.data_split(X, y)\n",
    "xgb_best_param = xgboost.XGBRegressor(\n",
    "        n_jobs=-1,\n",
    "        n_estimators=2000,\n",
    "        colsample_bytree=0.75,\n",
    "        learning_rate=0.1,\n",
    "        max_depth=6,\n",
    "        subsample=0.75,\n",
    "        gamma=10,\n",
    "        random_state=42,\n",
    "    )\n",
    "xgb_model =xgb_best_param.fit(X_train, y_train)\n",
    "a = reg.feature_importance(xgb_model, X_train)"
   ]
  },
  {
   "attachments": {},
   "cell_type": "markdown",
   "metadata": {},
   "source": [
    "## 2-3. Tree model 결론\n",
    "- `데이터 성능`: \n",
    "  - Original data > Poly data\n",
    "  - 먼저 선형 모델에서 성능이 더 좋게 나왔던 다항변환 데이터로 Tree model을 돌려보았으나, 결과는 좋지 않음\n",
    "  - 트리모델 자체가 변수 불연속성을 적용하기 때문에 다항변환이 불필요하다고 결론 내렸고, 이후 오리지널 데이터로만 Tree model 돌림\n",
    "- `모델 성능`: \n",
    "  - XGBoost가 가장 좋음\n",
    "  - XGBoost의 Train RMSE와 Test RMSE의 차이가 가장 적고, R2 socre 역시 높은 축에 속함\n",
    "- `트리모델 한계`:  \n",
    "  - 트리모델 중 베스트 모델이었던 XGB로 파라미터를 조정해봤지만 여전히 오차가 한자리 수(만원 대) 이내로 줄지 않음\n",
    "- `결론`:\n",
    "  - XGB가 개선되지 않았던 이유 추정: \n",
    "    - 주거형태가 특성중요도에서 높은 순위를 보임 (1, 5, 8위)\n",
    "    - 수집한 데이터의 주거형태(원룸, 오피스텔, 빌라) 별로 특징이 상이하기 때문\n",
    "    - 주거형태에 따라 가격에 영향을 미치는 요소가 다를 것이라 추측\n",
    "  - XGB 모델 개선방향: \n",
    "    - 주거형태별(service_type)로 데이터를 나눠서 다시 트리모델 회귀분석 진행"
   ]
  },
  {
   "attachments": {},
   "cell_type": "markdown",
   "metadata": {},
   "source": [
    "---\n",
    "# 3. 최종 모델 \n",
    "- 최종 모델: 주거형태 별 XGB 회귀분석"
   ]
  },
  {
   "attachments": {},
   "cell_type": "markdown",
   "metadata": {},
   "source": [
    "## 3-1. 개선된 XGB model"
   ]
  },
  {
   "cell_type": "code",
   "execution_count": 2,
   "metadata": {},
   "outputs": [],
   "source": [
    "df_oneroom  = df[(df['service_type']=='원룸')]\n",
    "df_officetel = df[(df['service_type']=='오피스텔')]\n",
    "df_villa= df[(df['service_type']=='빌라')]"
   ]
  },
  {
   "cell_type": "code",
   "execution_count": null,
   "metadata": {},
   "outputs": [
    {
     "name": "stdout",
     "output_type": "stream",
     "text": [
      "     Model  Train RMSE  Train R^2  Test RMSE  Test R^2\n",
      "0  XGBoost    1.138385   0.994157   7.143641  0.759003\n"
     ]
    },
    {
     "data": {
      "image/png": "[encoded data removed]",
      "text/plain": [
       "<Figure size 640x480 with 1 Axes>"
      ]
     },
     "metadata": {},
     "output_type": "display_data"
    }
   ],
   "source": [
    "df_oneroom_result = reg.get_model_each_servcie(df_oneroom, reg.get_bestparam_model())"
   ]
  },
  {
   "cell_type": "code",
   "execution_count": 4,
   "metadata": {},
   "outputs": [
    {
     "name": "stdout",
     "output_type": "stream",
     "text": [
      "오피스텔\n",
      "     Model  Train RMSE  Train R^2  Test RMSE  Test R^2\n",
      "0  XGBoost    1.356475   0.999366  17.366491  0.890989\n"
     ]
    },
    {
     "data": {
      "image/png": "[encoded data removed]",
      "text/plain": [
       "<Figure size 640x480 with 1 Axes>"
      ]
     },
     "metadata": {},
     "output_type": "display_data"
    }
   ],
   "source": [
    "print('오피스텔')\n",
    "df_officetel_result=reg.get_model_each_servcie(df_officetel, reg.get_bestparam_model)"
   ]
  },
  {
   "cell_type": "code",
   "execution_count": 5,
   "metadata": {},
   "outputs": [
    {
     "name": "stdout",
     "output_type": "stream",
     "text": [
      "빌라\n",
      "     Model  Train RMSE  Train R^2  Test RMSE  Test R^2\n",
      "0  XGBoost    1.129124   0.999487  22.739038   0.80217\n"
     ]
    },
    {
     "data": {
      "image/png": "[encoded data removed]",
      "text/plain": [
       "<Figure size 640x480 with 1 Axes>"
      ]
     },
     "metadata": {},
     "output_type": "display_data"
    }
   ],
   "source": [
    "print('빌라')\n",
    "df_villa_result = reg.get_model_each_servcie(df_villa, reg.get_bestparam_model)"
   ]
  },
  {
   "attachments": {},
   "cell_type": "markdown",
   "metadata": {},
   "source": [
    "## 3-2. 주거형태 별 회귀분석 결과해석\n",
    "- 주거형태 중 원룸의 오차는 한자리 수로 개선됨. \n",
    "- 그러나 오피스텔, 빌라의 오차는 개선되지 않음. \n",
    "- 이는 원룸에 비해 오피스텔, 빌라의 데이터 샘플 수가 적었기 때문이라고 생각.\n",
    "  - 원룸: 19,013개\n",
    "  - 오피스텔: 8,259개\n",
    "  - 빌라: 6,936개\n"
   ]
  },
  {
   "cell_type": "code",
   "execution_count": 6,
   "metadata": {},
   "outputs": [
    {
     "data": {
      "text/plain": [
       "원룸      19013\n",
       "오피스텔     8259\n",
       "빌라       6936\n",
       "Name: service_type, dtype: int64"
      ]
     },
     "execution_count": 6,
     "metadata": {},
     "output_type": "execute_result"
    }
   ],
   "source": [
    "# 주거형태(service_type) 별 데이터 수\n",
    "df['service_type'].value_counts()"
   ]
  },
  {
   "attachments": {},
   "cell_type": "markdown",
   "metadata": {},
   "source": [
    "---\n",
    "# 4. 회귀분석 결론\n",
    "목표했던 예측오차 1자리 대 달성(10만원 이내 오차, RMSE 기준)\n",
    "\n",
    "- XGB 모델의 정확도가 떨어졌던 이유는 데이터의 양이 부족했기 때문\n",
    "- 주거형태 별로 데이터가 충분했다면 개선 가능했을 것\n"
   ]
  }
 ],
 "metadata": {
  "kernelspec": {
   "display_name": "base",
   "language": "python",
   "name": "python3"
  },
  "language_info": {
   "codemirror_mode": {
    "name": "ipython",
    "version": 3
   },
   "file_extension": ".py",
   "mimetype": "text/x-python",
   "name": "python",
   "nbconvert_exporter": "python",
   "pygments_lexer": "ipython3",
   "version": "3.10.9"
  },
  "orig_nbformat": 4
 },
 "nbformat": 4,
 "nbformat_minor": 2
}
